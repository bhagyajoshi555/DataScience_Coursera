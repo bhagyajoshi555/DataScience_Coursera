{
 "cells": [
  {
   "cell_type": "code",
   "execution_count": 1,
   "id": "fe58a1c6-7c3b-46db-8e4e-26fa1f9f2633",
   "metadata": {},
   "outputs": [
    {
     "data": {
      "text/plain": [
       "'Hello, Python!'"
      ]
     },
     "execution_count": 1,
     "metadata": {},
     "output_type": "execute_result"
    }
   ],
   "source": [
    "'Hello, Python!'"
   ]
  },
  {
   "cell_type": "code",
   "execution_count": 2,
   "id": "f1fd4921-7889-433f-a9d5-b5b228030132",
   "metadata": {},
   "outputs": [
    {
     "data": {
      "text/plain": [
       "4"
      ]
     },
     "execution_count": 2,
     "metadata": {},
     "output_type": "execute_result"
    }
   ],
   "source": [
    "4"
   ]
  },
  {
   "cell_type": "code",
   "execution_count": 3,
   "id": "0f8c3c94-b814-4b99-b06f-949a64eb647e",
   "metadata": {},
   "outputs": [
    {
     "data": {
      "text/plain": [
       "4"
      ]
     },
     "execution_count": 3,
     "metadata": {},
     "output_type": "execute_result"
    }
   ],
   "source": [
    "2+2"
   ]
  },
  {
   "cell_type": "code",
   "execution_count": 4,
   "id": "92716fb2-fd0d-40ab-9bf1-97a81b0c5bc1",
   "metadata": {},
   "outputs": [
    {
     "data": {
      "text/plain": [
       "8.75"
      ]
     },
     "execution_count": 4,
     "metadata": {},
     "output_type": "execute_result"
    }
   ],
   "source": [
    "2.5*3.5"
   ]
  },
  {
   "cell_type": "code",
   "execution_count": null,
   "id": "35a04f8d-85ff-40e1-997a-faebe7f18553",
   "metadata": {},
   "outputs": [],
   "source": []
  },
  {
   "cell_type": "code",
   "execution_count": 5,
   "id": "95f5ad59-5be0-4c96-8463-2ed8fb6bb476",
   "metadata": {},
   "outputs": [
    {
     "data": {
      "text/plain": [
       "4.5"
      ]
     },
     "execution_count": 5,
     "metadata": {},
     "output_type": "execute_result"
    }
   ],
   "source": [
    "4.5"
   ]
  },
  {
   "cell_type": "code",
   "execution_count": 6,
   "id": "39b27c77-4514-4556-9777-83bd24e25038",
   "metadata": {},
   "outputs": [],
   "source": [
    "# Create a new code cell below this cell and type in 4.5 and execute it"
   ]
  },
  {
   "cell_type": "code",
   "execution_count": 7,
   "id": "9d1be68d-48ac-430b-9a7e-af33191dae7d",
   "metadata": {},
   "outputs": [
    {
     "data": {
      "text/plain": [
       "4.5"
      ]
     },
     "execution_count": 7,
     "metadata": {},
     "output_type": "execute_result"
    }
   ],
   "source": [
    "4.5"
   ]
  },
  {
   "cell_type": "code",
   "execution_count": 10,
   "id": "7770da5a-3e45-48e2-b9d9-b4d91b515154",
   "metadata": {},
   "outputs": [
    {
     "data": {
      "text/plain": [
       "5"
      ]
     },
     "execution_count": 10,
     "metadata": {},
     "output_type": "execute_result"
    }
   ],
   "source": [
    "# Execute this cell by clicking Shift + Enter\n",
    "\n",
    "2+3"
   ]
  },
  {
   "cell_type": "code",
   "execution_count": 11,
   "id": "5efd1e62-be9c-44fa-a7be-15e3cc63ba1b",
   "metadata": {},
   "outputs": [],
   "source": [
    "# Execute this cell by clicking Shift + Enter\n",
    "# 2+3"
   ]
  },
  {
   "cell_type": "markdown",
   "id": "9bd4b521-d3c0-42dc-8fe9-24d735b3bcce",
   "metadata": {},
   "source": [
    "My first markdown"
   ]
  },
  {
   "cell_type": "markdown",
   "id": "e699fad4-9151-43eb-aac6-eccdf096e051",
   "metadata": {},
   "source": [
    " Evaluating Basic Arithmetic Expression."
   ]
  },
  {
   "cell_type": "code",
   "execution_count": 12,
   "id": "528efeef-f663-486f-8a85-2cbee2833324",
   "metadata": {},
   "outputs": [
    {
     "data": {
      "text/plain": [
       "100"
      ]
     },
     "execution_count": 12,
     "metadata": {},
     "output_type": "execute_result"
    }
   ],
   "source": [
    "(20+5)*4"
   ]
  },
  {
   "cell_type": "code",
   "execution_count": 13,
   "id": "af8b957b-d0e4-4f49-a757-938f4ad6390a",
   "metadata": {},
   "outputs": [
    {
     "data": {
      "text/plain": [
       "'Let us explore python without coding.'"
      ]
     },
     "execution_count": 13,
     "metadata": {},
     "output_type": "execute_result"
    }
   ],
   "source": [
    "# Displaying a string message\n",
    "\"Let us explore python without coding.\""
   ]
  },
  {
   "cell_type": "code",
   "execution_count": null,
   "id": "736fdfa0-ca7e-496b-a2df-cffed33b0377",
   "metadata": {},
   "outputs": [],
   "source": [
    "## Click after 1+1 in this cell and split it\n",
    "1+1"
   ]
  },
  {
   "cell_type": "code",
   "execution_count": null,
   "id": "51cdf9cd-b13c-4a09-8652-291a9d13122a",
   "metadata": {},
   "outputs": [],
   "source": [
    "2*2"
   ]
  }
 ],
 "metadata": {
  "kernelspec": {
   "display_name": "Python 3 (ipykernel)",
   "language": "python",
   "name": "python3"
  },
  "language_info": {
   "codemirror_mode": {
    "name": "ipython",
    "version": 3
   },
   "file_extension": ".py",
   "mimetype": "text/x-python",
   "name": "python",
   "nbconvert_exporter": "python",
   "pygments_lexer": "ipython3",
   "version": "3.11.4"
  }
 },
 "nbformat": 4,
 "nbformat_minor": 5
}
